{
 "cells": [
  {
   "cell_type": "code",
   "execution_count": 1,
   "metadata": {},
   "outputs": [],
   "source": [
    "# IPython candies...\n",
    "from IPython.display import Image\n",
    "from IPython.core.display import HTML "
   ]
  },
  {
   "cell_type": "markdown",
   "metadata": {},
   "source": [
    "Seq2Seq with PyTorch\n",
    "====\n",
    "\n",
    "Sequence-to-Sequence (Seq2Seq) learning is a useful class of neural network model to map sequential input into an output sequence. It has been shown to work well on various task, from machine translation to interpreting Python without an interpreter. {{citations-needed}}\n",
    "\n",
    "This notebook is a hands-on session to write an encoder-decoder Seq2Seq network using PyTorch for [DataScience SG meetup](https://www.meetup.com/DataScience-SG-Singapore/events/246541733/). \n",
    "\n",
    "\n",
    "It would be great if you have at least worked through the [\"Deep Learning in 60 minutes\" PyTorch tutorial](http://pytorch.org/tutorials/beginner/deep_learning_60min_blitz.html) before continuing the rest of the notebook.\n",
    "\n",
    "\n",
    "Acknowledgements\n",
    "----\n",
    "The materials are largely based on the \n",
    "\n",
    " - [intermediate PyTorch tutorials by Sean Robertson](http://pytorch.org/tutorials/intermediate/seq2seq_translation_tutorial.html) and \n",
    " - [Luong et al. tutorial on neural machine translation in ACL16](https://sites.google.com/site/acl16nmt/home).\n",
    "\n",
    "The dataset used in this exercise is hosted on https://www.kaggle.com/alvations/sg-kopi"
   ]
  },
  {
   "cell_type": "markdown",
   "metadata": {},
   "source": [
    "Kopi Problems\n",
    "====\n",
    "\n",
    "In this hands-on session, we want to **train a neural network to translate from Singlish Kopi orders to English?**\n",
    "\n",
    "\n",
    "**\"Singlish\" -> English**\n",
    "\n",
    "```\n",
    "\"Kopi\" -> Coffee with condensed milk\n",
    "\"Kopi O\" -> Coffee without milk or sugar\n",
    "\"Kopi dinosaur gau siew dai peng\" -> ???\n",
    "```\n",
    "\n",
    "(Image Source: http://www.straitstimes.com/lifestyle/food/get-your-kopi-kick)"
   ]
  },
  {
   "cell_type": "code",
   "execution_count": 2,
   "metadata": {},
   "outputs": [
    {
     "data": {
      "text/html": [
       "<img src=\"https://static.straitstimes.com.sg/sites/default/files/160522_kopi.jpg\" width=\"700\"/>"
      ],
      "text/plain": [
       "<IPython.core.display.Image object>"
      ]
     },
     "execution_count": 2,
     "metadata": {},
     "output_type": "execute_result"
    }
   ],
   "source": [
    "Image(url=\"https://static.straitstimes.com.sg/sites/default/files/160522_kopi.jpg\", width=700)"
   ]
  },
  {
   "cell_type": "markdown",
   "metadata": {},
   "source": [
    "Seriously?\n",
    "----\n",
    "\n",
    "Yes, we'll be translating Singlish Kopi orders to English using the [sequence-to-sequence network](https://arxiv.org/abs/1409.3215) {{citations-needed}}. \n",
    "\n",
    "But first...\n",
    "---"
   ]
  },
  {
   "cell_type": "markdown",
   "metadata": {},
   "source": [
    "Data Munging\n",
    "====\n",
    "\n",
    "Before any machine/deep learning, we have to get some data and \"hammer\" it until we get it into the shape we want.\n",
    "\n",
    "> *Data scientists spend 60% of their time on cleaning and organizing data. Collecting data sets comes second at 19% of their time, meaning data scientists spend around 80% of their time on preparing and managing data for analysis.*\n",
    "\n",
    "> (Source: [Gil Press](https://www.forbes.com/sites/gilpress/2016/03/23/data-preparation-most-time-consuming-least-enjoyable-data-science-task-survey-says/#3e4dc0416f63) Forbes article)\n",
    "\n",
    "**Step 1:** Take the data from somewhere, in this case: http://kaggle.com/alvations/sg-kopi.\n",
    "\n",
    "**Step 2:** Import your favorite dataframe and text processing library.\n",
    "\n",
    "**Step 3:** Munge the data till desired."
   ]
  },
  {
   "cell_type": "code",
   "execution_count": 3,
   "metadata": {},
   "outputs": [
    {
     "data": {
      "text/html": [
       "<div>\n",
       "<style scoped>\n",
       "    .dataframe tbody tr th:only-of-type {\n",
       "        vertical-align: middle;\n",
       "    }\n",
       "\n",
       "    .dataframe tbody tr th {\n",
       "        vertical-align: top;\n",
       "    }\n",
       "\n",
       "    .dataframe thead th {\n",
       "        text-align: right;\n",
       "    }\n",
       "</style>\n",
       "<table border=\"1\" class=\"dataframe\">\n",
       "  <thead>\n",
       "    <tr style=\"text-align: right;\">\n",
       "      <th></th>\n",
       "      <th>Local Terms</th>\n",
       "      <th>Meaning</th>\n",
       "      <th>Source</th>\n",
       "    </tr>\n",
       "  </thead>\n",
       "  <tbody>\n",
       "    <tr>\n",
       "      <th>0</th>\n",
       "      <td>Kopi O</td>\n",
       "      <td>Black Coffee with Sugar</td>\n",
       "      <td>https://daneshd.com/2010/02/28/a-rough-guide-t...</td>\n",
       "    </tr>\n",
       "    <tr>\n",
       "      <th>1</th>\n",
       "      <td>Kopi</td>\n",
       "      <td>Black Coffee with Condensed Milk</td>\n",
       "      <td>https://daneshd.com/2010/02/28/a-rough-guide-t...</td>\n",
       "    </tr>\n",
       "    <tr>\n",
       "      <th>2</th>\n",
       "      <td>Kopi C</td>\n",
       "      <td>Black Coffee with Evaporated Milk</td>\n",
       "      <td>https://daneshd.com/2010/02/28/a-rough-guide-t...</td>\n",
       "    </tr>\n",
       "    <tr>\n",
       "      <th>3</th>\n",
       "      <td>Kopi Kosong</td>\n",
       "      <td>Black Coffee without sugar or milk</td>\n",
       "      <td>https://daneshd.com/2010/02/28/a-rough-guide-t...</td>\n",
       "    </tr>\n",
       "    <tr>\n",
       "      <th>4</th>\n",
       "      <td>Kopi Gah Dai</td>\n",
       "      <td>Black Coffee with extra condensed milk</td>\n",
       "      <td>https://daneshd.com/2010/02/28/a-rough-guide-t...</td>\n",
       "    </tr>\n",
       "  </tbody>\n",
       "</table>\n",
       "</div>"
      ],
      "text/plain": [
       "    Local Terms                                 Meaning  \\\n",
       "0        Kopi O                 Black Coffee with Sugar   \n",
       "1          Kopi        Black Coffee with Condensed Milk   \n",
       "2        Kopi C       Black Coffee with Evaporated Milk   \n",
       "3   Kopi Kosong      Black Coffee without sugar or milk   \n",
       "4  Kopi Gah Dai  Black Coffee with extra condensed milk   \n",
       "\n",
       "                                              Source  \n",
       "0  https://daneshd.com/2010/02/28/a-rough-guide-t...  \n",
       "1  https://daneshd.com/2010/02/28/a-rough-guide-t...  \n",
       "2  https://daneshd.com/2010/02/28/a-rough-guide-t...  \n",
       "3  https://daneshd.com/2010/02/28/a-rough-guide-t...  \n",
       "4  https://daneshd.com/2010/02/28/a-rough-guide-t...  "
      ]
     },
     "execution_count": 3,
     "metadata": {},
     "output_type": "execute_result"
    }
   ],
   "source": [
    "import pandas as pd\n",
    "from gensim.corpora.dictionary import Dictionary\n",
    "from nltk import word_tokenize\n",
    "\n",
    "# Reads the tab-delimited data using Pandas.\n",
    "kopitiam = pd.read_csv('coffee-culture-sg.tsv', sep='\\t')\n",
    "kopitiam.head()"
   ]
  },
  {
   "cell_type": "code",
   "execution_count": 4,
   "metadata": {},
   "outputs": [
    {
     "name": "stdout",
     "output_type": "stream",
     "text": [
      "First Singlish sentence: ['<s>', 'kopi', 'o', '</s>']\n",
      "First English sentence: ['<s>', 'black', 'coffee', 'with', 'sugar', '</s>']\n"
     ]
    }
   ],
   "source": [
    "START, START_IDX = '<s>',  0\n",
    "END, END_IDX = '</s>', 1\n",
    "\n",
    "# We use this idiom to tokenize our sentences in the dataframe column:\n",
    "# >>> DataFrame['column'].apply(str.lower).apply(word_tokenize)\n",
    "\n",
    "# Also we added the START and the END symbol to the sentences. \n",
    "singlish_sents = [START] + kopitiam['Local Terms'].apply(str.lower).apply(word_tokenize) + [END]\n",
    "english_sents = [START] + kopitiam['Meaning'].apply(str.lower).apply(word_tokenize) + [END]\n",
    "\n",
    "# We're sort of getting into the data into the shape we want. \n",
    "# But now it's still too humanly readable and redundant.\n",
    "## Cut-away: Computers like it to be simpler, more concise. -_-|||\n",
    "print('First Singlish sentence:', singlish_sents[0])\n",
    "print('First English sentence:', english_sents[0])"
   ]
  },
  {
   "cell_type": "code",
   "execution_count": 5,
   "metadata": {},
   "outputs": [
    {
     "name": "stdout",
     "output_type": "stream",
     "text": [
      "First 10 Singlish words:\n",
      " [(0, '<s>'), (1, '</s>'), (2, 'UNK'), (3, 'kopi'), (4, 'o'), (5, 'c'), (6, 'kosong'), (7, 'dai'), (8, 'gah'), (9, 'siew')]\n",
      "\n",
      "First 10 English words:\n",
      " [(0, '<s>'), (1, '</s>'), (2, 'UNK'), (3, 'black'), (4, 'coffee'), (5, 'sugar'), (6, 'with'), (7, 'condensed'), (8, 'milk'), (9, 'evaporated')]\n"
     ]
    }
   ],
   "source": [
    "# Let's convert the individual words into some sort of unique index \n",
    "# and use the unique to represent the words. \n",
    "## Cut-away: Integers = 1-2 bytes vs UTF-8 Strings = no. of chars * 1-2 bytes. @_@\n",
    "\n",
    "english_vocab = Dictionary([['<s>'], ['</s>'], ['UNK']])\n",
    "english_vocab.add_documents(english_sents)\n",
    "\n",
    "singlish_vocab = Dictionary([['<s>'], ['</s>'], ['UNK']])\n",
    "singlish_vocab.add_documents(singlish_sents)\n",
    "\n",
    "# First ten words in the vocabulary.\n",
    "print('First 10 Singlish words:\\n', sorted(singlish_vocab.items())[:10])\n",
    "print()\n",
    "print('First 10 English words:\\n', sorted(english_vocab.items())[:10])"
   ]
  },
  {
   "cell_type": "code",
   "execution_count": 6,
   "metadata": {},
   "outputs": [
    {
     "name": "stdout",
     "output_type": "stream",
     "text": [
      "First Singlish sentence: [0, 3, 4, 1]\n",
      "First English sentence: [0, 3, 4, 6, 5, 1]\n"
     ]
    }
   ],
   "source": [
    "# Now, convert all the sentences into list of the indices \n",
    "print('First Singlish sentence:', singlish_vocab.doc2idx(singlish_sents[0]) )\n",
    "print('First English sentence:', english_vocab.doc2idx(english_sents[0]) )"
   ]
  },
  {
   "cell_type": "code",
   "execution_count": 143,
   "metadata": {},
   "outputs": [
    {
     "data": {
      "text/plain": [
       "[0, 3, 22, 11, 9, 7, 12, 1]"
      ]
     },
     "execution_count": 143,
     "metadata": {},
     "output_type": "execute_result"
    }
   ],
   "source": [
    "# Lets create a function to convert new sentences into the indexed forms.\n",
    "def vectorize_sent(sent, vocab):\n",
    "    return vocab.doc2idx([START] + word_tokenize(sent.lower()) + [END])\n",
    "\n",
    "new_kopi = \"Kopi dinosaur gau siew dai peng\"\n",
    "vectorize_sent(new_kopi, singlish_vocab)"
   ]
  },
  {
   "cell_type": "code",
   "execution_count": 115,
   "metadata": {},
   "outputs": [
    {
     "data": {
      "text/plain": [
       "Variable containing:\n",
       "    0\n",
       "    3\n",
       "   22\n",
       "   11\n",
       "    9\n",
       "    7\n",
       "   12\n",
       "    1\n",
       "[torch.LongTensor of size 8x1]"
      ]
     },
     "execution_count": 115,
     "metadata": {},
     "output_type": "execute_result"
    }
   ],
   "source": [
    "# For the last step of data hammering, we need to clobber \n",
    "# the vectorized sentence into PyTorch Variable. \n",
    "def variable_from_sent(sent, vocab):\n",
    "    vsent = vectorize_sent(sent, vocab)\n",
    "    result = Variable(torch.LongTensor(vsent).view(-1, 1))\n",
    "    return result.cuda() if use_cuda else result\n",
    "\n",
    "new_kopi = \"Kopi dinosaur gau siew dai peng\"\n",
    "variable_from_sent(new_kopi, singlish_vocab)"
   ]
  },
  {
   "cell_type": "code",
   "execution_count": 116,
   "metadata": {},
   "outputs": [
    {
     "data": {
      "text/plain": [
       "8"
      ]
     },
     "execution_count": 116,
     "metadata": {},
     "output_type": "execute_result"
    }
   ],
   "source": [
    "# To get the sentence length.\n",
    "variable_from_sent(new_kopi, singlish_vocab).size()[0] # Includes START and END symbol."
   ]
  },
  {
   "cell_type": "code",
   "execution_count": 53,
   "metadata": {},
   "outputs": [],
   "source": [
    "# Prepare the whole training corpus.\n",
    "singlish_tensors = kopitiam['Local Terms'].apply(lambda s: variable_from_sent(s, singlish_vocab))\n",
    "english_tensors = kopitiam['Meaning'].apply(lambda s: variable_from_sent(s, english_vocab))\n",
    "\n",
    "sent_pairs = list(zip(singlish_tensors, english_tensors))"
   ]
  },
  {
   "cell_type": "markdown",
   "metadata": {},
   "source": [
    "The Seq2Seq Model\n",
    "====\n",
    "\n",
    "A Recurrent Neural Network (RNN), is a network that operates on a sequence and uses its own output as input for subsequent steps.\n",
    "\n",
    "> *The general idea is to make **two recurrent neural network transform from one sequence to another**. An encoder network condenses an input sequence into a vector and a decoder netwrok unfolds the vector into a new sequence.*\n",
    "\n"
   ]
  },
  {
   "cell_type": "code",
   "execution_count": 7,
   "metadata": {},
   "outputs": [],
   "source": [
    "from __future__ import unicode_literals, print_function, division\n",
    "from io import open\n",
    "import unicodedata\n",
    "import string\n",
    "import re\n",
    "import random\n",
    "\n",
    "import torch\n",
    "import torch.nn as nn\n",
    "from torch.autograd import Variable\n",
    "from torch import optim\n",
    "import torch.nn.functional as F\n",
    "\n",
    "use_cuda = torch.cuda.is_available()\n"
   ]
  },
  {
   "cell_type": "markdown",
   "metadata": {},
   "source": [
    "The Encoder\n",
    "====\n",
    "\n",
    "The encoder of a seq2seq network is a RNN that outputs some value for every word from the input sentence. For every input word the encoder outputs a vector and a hidden state, and uses the hidden state for the next input word.\n",
    "\n",
    "\n",
    "<img src=\"http://pytorch.org/tutorials/_images/encoder-network.png\" align='left'>"
   ]
  },
  {
   "cell_type": "code",
   "execution_count": 58,
   "metadata": {},
   "outputs": [],
   "source": [
    "class EncoderRNN(nn.Module):\n",
    "    def __init__(self, input_size, hidden_size):\n",
    "        super(EncoderRNN, self).__init__()\n",
    "        # Set the no. of nodes for the hidden layer.\n",
    "        self.hidden_size = hidden_size\n",
    "        # Initialize the embedding layer with the \n",
    "        # - size of input (i.e. no. of words in input vocab)\n",
    "        # - no. of hidden nodes in the embedding layer\n",
    "        self.embedding = nn.Embedding(input_size, hidden_size)\n",
    "        # Initialize the GRU with the \n",
    "        # - size of the hidden layer from the previous state\n",
    "        # - size of the hidden layer from the current state\n",
    "        self.gru = nn.GRU(hidden_size, hidden_size)\n",
    "\n",
    "    def forward(self, input, hidden):\n",
    "        # Feed the input into the embedding layer.\n",
    "        embedded = self.embedding(input).view(1, 1, -1)\n",
    "        # Feed the embedded layer with the hidden layer to the GRU.\n",
    "        # Update the output and hidden layer.\n",
    "        output, hidden = self.gru(embedded, hidden)\n",
    "        return output, hidden\n",
    "\n",
    "    def initialize_hidden_states(self):\n",
    "        result = Variable(torch.zeros(1, 1, self.hidden_size))\n",
    "        return result.cuda() if use_cuda else result\n"
   ]
  },
  {
   "cell_type": "markdown",
   "metadata": {},
   "source": [
    "Simple Decoder\n",
    "====\n",
    "\n",
    "In the simplest seq2seq decoder we use only last output of the encoder. This last output is sometimes called the context vector as it encodes context from the entire sequence. This context vector is used as the initial hidden state of the decoder.\n",
    "\n",
    "At every step of decoding, the decoder is given an input token and hidden state. The initial input token is the start-of-string `<s>` token, and the first hidden state is the context vector (the encoder’s last hidden state).\n",
    "\n",
    "\n",
    "<img src=\"http://pytorch.org/tutorials/_images/decoder-network.png\" align='left'>\n"
   ]
  },
  {
   "cell_type": "code",
   "execution_count": 59,
   "metadata": {},
   "outputs": [],
   "source": [
    "class DecoderRNN(nn.Module):\n",
    "    def __init__(self, hidden_size, output_size):\n",
    "        super(DecoderRNN, self).__init__()\n",
    "        # Set the no. of nodes for the hidden layer.\n",
    "        self.hidden_size = hidden_size\n",
    "        # Initialize the embedding layer with the \n",
    "        # - size of output (i.e. no. of words in output vocab)\n",
    "        # - no. of hidden nodes in the embedding layer\n",
    "        self.embedding = nn.Embedding(output_size, hidden_size)\n",
    "        # Initialize the GRU with the \n",
    "        # - size of the hidden layer from the previous state\n",
    "        # - size of the hidden layer from the current state\n",
    "        self.gru = nn.GRU(hidden_size, hidden_size)\n",
    "        # Set the output layer to output a specific symbol \n",
    "        # from the output vocabulary\n",
    "        self.softmax = nn.LogSoftmax(dim=1)\n",
    "        self.out = nn.Linear(hidden_size, output_size)\n",
    "\n",
    "    def forward(self, input, hidden):\n",
    "        # Feed the input into the embedding layer.\n",
    "        output = self.embedding(input).view(1, 1, -1)\n",
    "        # Transform the embedded output with a relu function. \n",
    "        output = F.relu(output)\n",
    "        # Feed the embedded layer with the hidden layer to the GRU.\n",
    "        # Update the output and hidden layer.\n",
    "        output, hidden = self.gru(output, hidden)\n",
    "        # Take the updated output and find the most appropriate\n",
    "        # output symbol. \n",
    "        output = self.softmax(self.out(output[0]))\n",
    "        return output, hidden\n",
    "\n",
    "    def initialize_hidden_states(self):\n",
    "        result = Variable(torch.zeros(1, 1, self.hidden_size))\n",
    "        return result.cuda() if use_cuda else result\n",
    "        "
   ]
  },
  {
   "cell_type": "markdown",
   "metadata": {},
   "source": [
    "Training the Model\n",
    "====\n",
    "\n",
    "To train we run the input sentence through the encoder, and keep track of every output and the latest hidden state. Then the decoder is given the <SOS> token as its first input, and the last hidden state of the encoder as its first hidden state.\n",
    "\n",
    "“Teacher forcing” is the concept of using the real target outputs as each next input, instead of using the decoder’s guess as the next input. Using teacher forcing causes it to converge faster but when the trained network is exploited, it may exhibit instability.\n",
    "\n",
    "You can observe outputs of teacher-forced networks that read with coherent grammar but wander far from the correct translation - intuitively it has learned to represent the output grammar and can “pick up” the meaning once the teacher tells it the first few words, but it has not properly learned how to create the sentence from the translation in the first place.\n",
    "\n",
    "Because of the freedom PyTorch’s autograd gives us, we can randomly choose to use teacher forcing or not with a simple if statement. Turn teacher_forcing_ratio up to use more of it.\n",
    "\n"
   ]
  },
  {
   "cell_type": "code",
   "execution_count": 101,
   "metadata": {},
   "outputs": [],
   "source": [
    "teacher_forcing_ratio = 0.5\n",
    "MAX_LENGTH = 20\n",
    "\n",
    "def train_one_epoch(input_variable, target_variable, encoder, decoder, \n",
    "          encoder_optimizer, decoder_optimizer, criterion):\n",
    "    \"\"\"\n",
    "    Function to put the variables, decoder and optimizers to train per epoch.\n",
    "    \"\"\"\n",
    "    encoder_hidden = encoder.initialize_hidden_states()\n",
    "\n",
    "    # (Re-)Initialize the optimizers, clear all gradients. \n",
    "    encoder_optimizer.zero_grad()\n",
    "    decoder_optimizer.zero_grad()\n",
    "    \n",
    "    # Initialize the length of the PyTorch variables.\n",
    "    input_length = input_variable.size()[0]\n",
    "    target_length = target_variable.size()[0]\n",
    "\n",
    "    encoder_outputs = Variable(torch.zeros(max_length, encoder.hidden_size))\n",
    "    encoder_outputs = encoder_outputs.cuda() if use_cuda else encoder_outputs\n",
    "\n",
    "    loss = 0\n",
    "\n",
    "    for ei in range(input_length):\n",
    "        encoder_output, encoder_hidden = encoder(\n",
    "            input_variable[ei], encoder_hidden)\n",
    "        encoder_outputs[ei] = encoder_output[0][0]\n",
    "\n",
    "    decoder_input = Variable(torch.LongTensor([[START_IDX]]))\n",
    "    decoder_input = decoder_input.cuda() if use_cuda else decoder_input\n",
    "\n",
    "    decoder_hidden = encoder_hidden\n",
    "\n",
    "    use_teacher_forcing = True if random.random() < teacher_forcing_ratio else False\n",
    "\n",
    "    if use_teacher_forcing:\n",
    "        # Teacher forcing: Feed the target as the next input\n",
    "        for di in range(target_length):\n",
    "            decoder_output, decoder_hidden = decoder(\n",
    "                decoder_input, decoder_hidden)\n",
    "            loss += criterion(decoder_output, target_variable[di])\n",
    "            decoder_input = target_variable[di]  # Teacher forcing\n",
    "\n",
    "    else:\n",
    "        # Without teacher forcing: use its own predictions as the next input\n",
    "        for di in range(target_length):\n",
    "            decoder_output, decoder_hidden = decoder(\n",
    "                decoder_input, decoder_hidden)\n",
    "            topv, topi = decoder_output.data.topk(1)\n",
    "            ni = topi[0][0]\n",
    "\n",
    "            decoder_input = Variable(torch.LongTensor([[ni]]))\n",
    "            decoder_input = decoder_input.cuda() if use_cuda else decoder_input\n",
    "\n",
    "            loss += criterion(decoder_output, target_variable[di])\n",
    "            if ni == END_IDX:\n",
    "                break\n",
    "\n",
    "    loss.backward()\n",
    "\n",
    "    encoder_optimizer.step()\n",
    "    decoder_optimizer.step()\n",
    "\n",
    "    return loss.data[0] / target_length\n"
   ]
  },
  {
   "cell_type": "code",
   "execution_count": 102,
   "metadata": {},
   "outputs": [],
   "source": [
    "import time\n",
    "import math\n",
    "\n",
    "\n",
    "def asMinutes(s):\n",
    "    m = math.floor(s / 60)\n",
    "    s -= m * 60\n",
    "    return '%dm %ds' % (m, s)\n",
    "\n",
    "\n",
    "def timeSince(since, percent):\n",
    "    now = time.time()\n",
    "    s = now - since\n",
    "    es = s / (percent)\n",
    "    rs = es - s\n",
    "    return '%s (- %s)' % (asMinutes(s), asMinutes(rs))"
   ]
  },
  {
   "cell_type": "code",
   "execution_count": 103,
   "metadata": {
    "scrolled": true
   },
   "outputs": [],
   "source": [
    "def train(encoder, decoder, n_iters, print_every=1000, plot_every=100, learning_rate=0.01):\n",
    "    start = time.time()\n",
    "    plot_losses = []\n",
    "    print_loss_total = 0  # Reset every print_every\n",
    "    plot_loss_total = 0  # Reset every plot_every\n",
    "\n",
    "    encoder_optimizer = optim.SGD(encoder.parameters(), lr=learning_rate)\n",
    "    decoder_optimizer = optim.SGD(decoder.parameters(), lr=learning_rate)\n",
    "    \n",
    "    \n",
    "    training_pairs = [random.choice(sent_pairs) for i in range(n_iters)]\n",
    "    \n",
    "    \n",
    "    criterion = nn.NLLLoss()\n",
    "\n",
    "    for iter in range(1, n_iters + 1):\n",
    "        training_pair = training_pairs[iter - 1]\n",
    "        input_variable = training_pair[0]\n",
    "        target_variable = training_pair[1]\n",
    "\n",
    "        loss = train_one_epoch(input_variable, target_variable, encoder,\n",
    "                     decoder, encoder_optimizer, decoder_optimizer, criterion)\n",
    "        print_loss_total += loss\n",
    "        plot_loss_total += loss\n",
    "\n",
    "        if iter % print_every == 0:\n",
    "            print_loss_avg = print_loss_total / print_every\n",
    "            print_loss_total = 0\n",
    "            print('%s (%d %d%%) %.4f' % (timeSince(start, iter / n_iters),\n",
    "                                         iter, iter / n_iters * 100, print_loss_avg))\n",
    "\n",
    "        if iter % plot_every == 0:\n",
    "            plot_loss_avg = plot_loss_total / plot_every\n",
    "            plot_losses.append(plot_loss_avg)\n",
    "            plot_loss_total = 0\n",
    "\n",
    "    showPlot(plot_losses)"
   ]
  },
  {
   "cell_type": "code",
   "execution_count": 104,
   "metadata": {},
   "outputs": [],
   "source": [
    "import matplotlib.pyplot as plt\n",
    "import matplotlib.ticker as ticker\n",
    "import numpy as np\n",
    "\n",
    "\n",
    "def showPlot(points):\n",
    "    plt.figure()\n",
    "    fig, ax = plt.subplots()\n",
    "    # this locator puts ticks at regular intervals\n",
    "    loc = ticker.MultipleLocator(base=0.2)\n",
    "    ax.yaxis.set_major_locator(loc)\n",
    "    plt.plot(points)"
   ]
  },
  {
   "cell_type": "code",
   "execution_count": 105,
   "metadata": {},
   "outputs": [],
   "source": []
  },
  {
   "cell_type": "code",
   "execution_count": 224,
   "metadata": {},
   "outputs": [
    {
     "name": "stdout",
     "output_type": "stream",
     "text": [
      "0m 7s (- 38m 29s) (100 0%) 2.6505\n",
      "0m 15s (- 37m 53s) (200 0%) 2.2769\n",
      "0m 23s (- 38m 20s) (300 1%) 2.1790\n",
      "0m 31s (- 38m 19s) (400 1%) 1.9496\n",
      "0m 38s (- 38m 5s) (500 1%) 1.9081\n",
      "0m 46s (- 38m 12s) (600 2%) 1.8574\n",
      "0m 54s (- 38m 0s) (700 2%) 1.9087\n",
      "1m 2s (- 37m 57s) (800 2%) 1.7099\n",
      "1m 10s (- 37m 51s) (900 3%) 1.4763\n",
      "1m 18s (- 37m 48s) (1000 3%) 1.4021\n",
      "1m 26s (- 37m 46s) (1100 3%) 1.2450\n",
      "1m 34s (- 37m 38s) (1200 4%) 1.2951\n",
      "1m 41s (- 37m 30s) (1300 4%) 1.1240\n",
      "1m 49s (- 37m 16s) (1400 4%) 1.0743\n",
      "1m 57s (- 37m 21s) (1500 5%) 1.1606\n",
      "2m 6s (- 37m 18s) (1600 5%) 1.1041\n",
      "2m 14s (- 37m 13s) (1700 5%) 0.8860\n",
      "2m 22s (- 37m 11s) (1800 6%) 1.0419\n",
      "2m 30s (- 37m 11s) (1900 6%) 1.0665\n",
      "2m 38s (- 37m 3s) (2000 6%) 1.1248\n",
      "2m 47s (- 37m 1s) (2100 7%) 0.7572\n",
      "2m 55s (- 36m 51s) (2200 7%) 0.7403\n",
      "3m 2s (- 36m 41s) (2300 7%) 1.1159\n",
      "3m 10s (- 36m 34s) (2400 8%) 0.9563\n",
      "3m 20s (- 36m 40s) (2500 8%) 0.6792\n",
      "3m 27s (- 36m 29s) (2600 8%) 0.8766\n",
      "3m 36s (- 36m 25s) (2700 9%) 0.6764\n",
      "3m 44s (- 36m 18s) (2800 9%) 0.8449\n",
      "3m 52s (- 36m 11s) (2900 9%) 0.7018\n",
      "4m 0s (- 36m 7s) (3000 10%) 0.6213\n",
      "4m 9s (- 36m 4s) (3100 10%) 0.8641\n",
      "4m 17s (- 35m 58s) (3200 10%) 0.7220\n",
      "4m 25s (- 35m 51s) (3300 11%) 0.6746\n",
      "4m 34s (- 35m 46s) (3400 11%) 0.6637\n",
      "4m 42s (- 35m 38s) (3500 11%) 0.4758\n",
      "4m 51s (- 35m 34s) (3600 12%) 0.5750\n",
      "4m 59s (- 35m 28s) (3700 12%) 0.5813\n",
      "5m 7s (- 35m 21s) (3800 12%) 0.4952\n",
      "5m 15s (- 35m 14s) (3900 13%) 0.5264\n",
      "5m 23s (- 35m 4s) (4000 13%) 0.6303\n",
      "5m 32s (- 34m 58s) (4100 13%) 0.5573\n",
      "5m 40s (- 34m 53s) (4200 14%) 0.6489\n",
      "5m 49s (- 34m 47s) (4300 14%) 0.7225\n",
      "5m 57s (- 34m 39s) (4400 14%) 0.5280\n",
      "6m 6s (- 34m 34s) (4500 15%) 0.7036\n",
      "6m 14s (- 34m 27s) (4600 15%) 0.5621\n",
      "6m 22s (- 34m 19s) (4700 15%) 0.5325\n",
      "6m 31s (- 34m 15s) (4800 16%) 0.6964\n",
      "6m 39s (- 34m 7s) (4900 16%) 0.5252\n",
      "6m 48s (- 34m 2s) (5000 16%) 0.5132\n",
      "6m 56s (- 33m 55s) (5100 17%) 0.6519\n",
      "7m 5s (- 33m 48s) (5200 17%) 0.5055\n",
      "7m 13s (- 33m 40s) (5300 17%) 0.5056\n",
      "7m 21s (- 33m 32s) (5400 18%) 0.5882\n",
      "7m 30s (- 33m 28s) (5500 18%) 0.5484\n",
      "7m 40s (- 33m 25s) (5600 18%) 0.7014\n",
      "7m 50s (- 33m 23s) (5700 19%) 0.6337\n",
      "8m 2s (- 33m 32s) (5800 19%) 0.6700\n",
      "8m 13s (- 33m 37s) (5900 19%) 0.5057\n",
      "8m 22s (- 33m 30s) (6000 20%) 0.5579\n",
      "8m 31s (- 33m 22s) (6100 20%) 0.5713\n",
      "8m 40s (- 33m 16s) (6200 20%) 0.4940\n",
      "8m 48s (- 33m 8s) (6300 21%) 0.6417\n",
      "8m 57s (- 33m 0s) (6400 21%) 0.6505\n",
      "9m 5s (- 32m 53s) (6500 21%) 0.5572\n",
      "9m 14s (- 32m 46s) (6600 22%) 0.4252\n",
      "9m 23s (- 32m 40s) (6700 22%) 0.5236\n",
      "9m 34s (- 32m 40s) (6800 22%) 0.4984\n",
      "9m 44s (- 32m 36s) (6900 23%) 0.4613\n",
      "9m 56s (- 32m 38s) (7000 23%) 0.3683\n",
      "10m 4s (- 32m 29s) (7100 23%) 0.4286\n",
      "10m 13s (- 32m 22s) (7200 24%) 0.4432\n",
      "10m 21s (- 32m 13s) (7300 24%) 0.4500\n",
      "10m 32s (- 32m 10s) (7400 24%) 0.3748\n",
      "10m 41s (- 32m 3s) (7500 25%) 0.4225\n",
      "10m 49s (- 31m 54s) (7600 25%) 0.5446\n",
      "10m 58s (- 31m 46s) (7700 25%) 0.4114\n",
      "11m 7s (- 31m 38s) (7800 26%) 0.5625\n",
      "11m 15s (- 31m 28s) (7900 26%) 0.5893\n",
      "11m 23s (- 31m 20s) (8000 26%) 0.5082\n",
      "11m 32s (- 31m 11s) (8100 27%) 0.3563\n",
      "11m 40s (- 31m 3s) (8200 27%) 0.4085\n",
      "11m 49s (- 30m 55s) (8300 27%) 0.6828\n",
      "11m 58s (- 30m 47s) (8400 28%) 0.5254\n",
      "12m 7s (- 30m 40s) (8500 28%) 0.4047\n",
      "12m 19s (- 30m 41s) (8600 28%) 0.4673\n",
      "12m 30s (- 30m 38s) (8700 28%) 0.4509\n",
      "12m 40s (- 30m 31s) (8800 29%) 0.5300\n",
      "12m 48s (- 30m 22s) (8900 29%) 0.5725\n",
      "12m 57s (- 30m 15s) (9000 30%) 0.3482\n",
      "13m 9s (- 30m 12s) (9100 30%) 0.6056\n",
      "13m 17s (- 30m 3s) (9200 30%) 0.4164\n",
      "13m 26s (- 29m 54s) (9300 31%) 0.5545\n",
      "13m 34s (- 29m 45s) (9400 31%) 0.5632\n",
      "13m 44s (- 29m 39s) (9500 31%) 0.4340\n",
      "13m 55s (- 29m 34s) (9600 32%) 0.3607\n",
      "14m 3s (- 29m 24s) (9700 32%) 0.5092\n",
      "14m 12s (- 29m 17s) (9800 32%) 0.5012\n",
      "14m 22s (- 29m 11s) (9900 33%) 0.5818\n",
      "14m 33s (- 29m 6s) (10000 33%) 0.4047\n",
      "14m 43s (- 29m 0s) (10100 33%) 0.3982\n",
      "14m 52s (- 28m 52s) (10200 34%) 0.4048\n",
      "15m 1s (- 28m 44s) (10300 34%) 0.4622\n",
      "15m 11s (- 28m 38s) (10400 34%) 0.5005\n",
      "15m 21s (- 28m 32s) (10500 35%) 0.3557\n",
      "15m 33s (- 28m 29s) (10600 35%) 0.4476\n",
      "15m 43s (- 28m 21s) (10700 35%) 0.5011\n",
      "15m 51s (- 28m 11s) (10800 36%) 0.4386\n",
      "16m 1s (- 28m 4s) (10900 36%) 0.4214\n",
      "16m 12s (- 27m 59s) (11000 36%) 0.4206\n",
      "16m 22s (- 27m 53s) (11100 37%) 0.4285\n",
      "16m 32s (- 27m 45s) (11200 37%) 0.4181\n",
      "16m 42s (- 27m 39s) (11300 37%) 0.5011\n",
      "16m 51s (- 27m 30s) (11400 38%) 0.5396\n",
      "17m 0s (- 27m 21s) (11500 38%) 0.3075\n",
      "17m 11s (- 27m 15s) (11600 38%) 0.5481\n",
      "17m 22s (- 27m 10s) (11700 39%) 0.3826\n",
      "17m 31s (- 27m 2s) (11800 39%) 0.3191\n",
      "17m 41s (- 26m 55s) (11900 39%) 0.4854\n",
      "17m 51s (- 26m 47s) (12000 40%) 0.3848\n",
      "18m 0s (- 26m 39s) (12100 40%) 0.3783\n",
      "18m 9s (- 26m 30s) (12200 40%) 0.3762\n",
      "18m 18s (- 26m 20s) (12300 41%) 0.4592\n",
      "18m 26s (- 26m 11s) (12400 41%) 0.4654\n",
      "18m 35s (- 26m 1s) (12500 41%) 0.3397\n",
      "18m 43s (- 25m 51s) (12600 42%) 0.4466\n",
      "18m 52s (- 25m 42s) (12700 42%) 0.4107\n",
      "19m 0s (- 25m 32s) (12800 42%) 0.3850\n",
      "19m 9s (- 25m 24s) (12900 43%) 0.3575\n",
      "19m 18s (- 25m 14s) (13000 43%) 0.3640\n",
      "19m 26s (- 25m 5s) (13100 43%) 0.4519\n",
      "19m 35s (- 24m 55s) (13200 44%) 0.4365\n",
      "19m 43s (- 24m 46s) (13300 44%) 0.4095\n",
      "19m 52s (- 24m 37s) (13400 44%) 0.4955\n",
      "20m 1s (- 24m 27s) (13500 45%) 0.4671\n",
      "20m 9s (- 24m 18s) (13600 45%) 0.4100\n",
      "20m 17s (- 24m 9s) (13700 45%) 0.5250\n",
      "20m 26s (- 23m 59s) (13800 46%) 0.3689\n",
      "20m 34s (- 23m 50s) (13900 46%) 0.2829\n",
      "20m 43s (- 23m 40s) (14000 46%) 0.4839\n",
      "20m 51s (- 23m 31s) (14100 47%) 0.4066\n",
      "21m 0s (- 23m 22s) (14200 47%) 0.3604\n",
      "21m 8s (- 23m 12s) (14300 47%) 0.5964\n",
      "21m 16s (- 23m 2s) (14400 48%) 0.4270\n",
      "21m 26s (- 22m 55s) (14500 48%) 0.3294\n",
      "21m 35s (- 22m 47s) (14600 48%) 0.3593\n",
      "21m 44s (- 22m 37s) (14700 49%) 0.4447\n",
      "21m 52s (- 22m 28s) (14800 49%) 0.5918\n",
      "22m 1s (- 22m 19s) (14900 49%) 0.4410\n",
      "22m 9s (- 22m 9s) (15000 50%) 0.4379\n",
      "22m 18s (- 22m 0s) (15100 50%) 0.5390\n",
      "22m 28s (- 21m 53s) (15200 50%) 0.4554\n",
      "22m 39s (- 21m 45s) (15300 51%) 0.4938\n",
      "22m 49s (- 21m 38s) (15400 51%) 0.5629\n",
      "22m 58s (- 21m 29s) (15500 51%) 0.4721\n",
      "23m 6s (- 21m 20s) (15600 52%) 0.4221\n",
      "23m 15s (- 21m 10s) (15700 52%) 0.4270\n",
      "23m 23s (- 21m 1s) (15800 52%) 0.4444\n",
      "23m 32s (- 20m 52s) (15900 53%) 0.3661\n",
      "23m 45s (- 20m 47s) (16000 53%) 0.5230\n",
      "24m 2s (- 20m 45s) (16100 53%) 0.3843\n",
      "24m 12s (- 20m 37s) (16200 54%) 0.3456\n",
      "24m 25s (- 20m 31s) (16300 54%) 0.3189\n",
      "24m 36s (- 20m 24s) (16400 54%) 0.4507\n",
      "24m 49s (- 20m 18s) (16500 55%) 0.5084\n",
      "25m 0s (- 20m 11s) (16600 55%) 0.4010\n",
      "25m 9s (- 20m 2s) (16700 55%) 0.4348\n",
      "25m 19s (- 19m 54s) (16800 56%) 0.3831\n",
      "25m 28s (- 19m 44s) (16900 56%) 0.3887\n",
      "25m 38s (- 19m 36s) (17000 56%) 0.3094\n",
      "25m 48s (- 19m 28s) (17100 56%) 0.4073\n",
      "25m 57s (- 19m 18s) (17200 57%) 0.3902\n",
      "26m 5s (- 19m 9s) (17300 57%) 0.4840\n",
      "26m 15s (- 19m 0s) (17400 57%) 0.3527\n",
      "26m 22s (- 18m 50s) (17500 58%) 0.5086\n",
      "26m 32s (- 18m 41s) (17600 58%) 0.5829\n",
      "26m 41s (- 18m 32s) (17700 59%) 0.3601\n",
      "26m 50s (- 18m 23s) (17800 59%) 0.5282\n",
      "26m 57s (- 18m 13s) (17900 59%) 0.5353\n",
      "27m 4s (- 18m 3s) (18000 60%) 0.3637\n",
      "27m 12s (- 17m 53s) (18100 60%) 0.3424\n",
      "27m 20s (- 17m 43s) (18200 60%) 0.4564\n",
      "27m 28s (- 17m 33s) (18300 61%) 0.4389\n",
      "27m 36s (- 17m 24s) (18400 61%) 0.3099\n",
      "27m 43s (- 17m 13s) (18500 61%) 0.4473\n",
      "27m 52s (- 17m 4s) (18600 62%) 0.4164\n",
      "28m 4s (- 16m 57s) (18700 62%) 0.4265\n",
      "28m 16s (- 16m 50s) (18800 62%) 0.2836\n",
      "28m 24s (- 16m 40s) (18900 63%) 0.3399\n",
      "28m 34s (- 16m 32s) (19000 63%) 0.3902\n",
      "28m 44s (- 16m 24s) (19100 63%) 0.3189\n",
      "28m 52s (- 16m 14s) (19200 64%) 0.3954\n",
      "29m 0s (- 16m 4s) (19300 64%) 0.4283\n",
      "29m 10s (- 15m 56s) (19400 64%) 0.4602\n",
      "29m 18s (- 15m 46s) (19500 65%) 0.4040\n",
      "29m 25s (- 15m 36s) (19600 65%) 0.4531\n",
      "29m 32s (- 15m 26s) (19700 65%) 0.4555\n",
      "29m 39s (- 15m 16s) (19800 66%) 0.3198\n",
      "29m 46s (- 15m 6s) (19900 66%) 0.4141\n",
      "29m 54s (- 14m 57s) (20000 66%) 0.4059\n",
      "30m 2s (- 14m 47s) (20100 67%) 0.3662\n",
      "30m 10s (- 14m 38s) (20200 67%) 0.4745\n",
      "30m 17s (- 14m 28s) (20300 67%) 0.4092\n",
      "30m 25s (- 14m 18s) (20400 68%) 0.4239\n",
      "30m 33s (- 14m 9s) (20500 68%) 0.4314\n",
      "30m 41s (- 14m 0s) (20600 68%) 0.3966\n",
      "30m 49s (- 13m 51s) (20700 69%) 0.4552\n",
      "30m 57s (- 13m 41s) (20800 69%) 0.2511\n",
      "31m 4s (- 13m 31s) (20900 69%) 0.4145\n",
      "31m 12s (- 13m 22s) (21000 70%) 0.3144\n",
      "31m 20s (- 13m 13s) (21100 70%) 0.3130\n",
      "31m 30s (- 13m 4s) (21200 70%) 0.3608\n",
      "31m 39s (- 12m 56s) (21300 71%) 0.4450\n",
      "31m 48s (- 12m 46s) (21400 71%) 0.4008\n",
      "31m 56s (- 12m 37s) (21500 71%) 0.4021\n",
      "32m 3s (- 12m 27s) (21600 72%) 0.3350\n",
      "32m 10s (- 12m 18s) (21700 72%) 0.3555\n",
      "32m 17s (- 12m 8s) (21800 72%) 0.3187\n"
     ]
    },
    {
     "name": "stdout",
     "output_type": "stream",
     "text": [
      "32m 24s (- 11m 59s) (21900 73%) 0.4618\n",
      "32m 31s (- 11m 49s) (22000 73%) 0.3104\n",
      "32m 38s (- 11m 40s) (22100 73%) 0.4553\n",
      "32m 46s (- 11m 31s) (22200 74%) 0.4734\n",
      "32m 53s (- 11m 21s) (22300 74%) 0.4470\n",
      "33m 2s (- 11m 12s) (22400 74%) 0.2663\n",
      "33m 16s (- 11m 5s) (22500 75%) 0.3754\n",
      "33m 32s (- 10m 58s) (22600 75%) 0.4359\n",
      "33m 43s (- 10m 50s) (22700 75%) 0.3947\n",
      "33m 51s (- 10m 41s) (22800 76%) 0.3269\n",
      "33m 59s (- 10m 32s) (22900 76%) 0.3110\n",
      "34m 6s (- 10m 22s) (23000 76%) 0.4278\n",
      "34m 13s (- 10m 13s) (23100 77%) 0.3666\n",
      "34m 21s (- 10m 4s) (23200 77%) 0.4850\n",
      "34m 29s (- 9m 55s) (23300 77%) 0.3342\n",
      "34m 37s (- 9m 46s) (23400 78%) 0.4602\n",
      "34m 45s (- 9m 36s) (23500 78%) 0.4955\n",
      "34m 53s (- 9m 27s) (23600 78%) 0.3511\n",
      "35m 3s (- 9m 19s) (23700 79%) 0.3852\n",
      "35m 14s (- 9m 10s) (23800 79%) 0.4021\n",
      "35m 23s (- 9m 2s) (23900 79%) 0.4050\n",
      "35m 31s (- 8m 52s) (24000 80%) 0.3765\n",
      "35m 39s (- 8m 43s) (24100 80%) 0.4599\n",
      "35m 47s (- 8m 34s) (24200 80%) 0.3084\n",
      "35m 55s (- 8m 25s) (24300 81%) 0.4676\n",
      "36m 7s (- 8m 17s) (24400 81%) 0.3272\n",
      "36m 17s (- 8m 8s) (24500 81%) 0.3574\n",
      "36m 25s (- 7m 59s) (24600 82%) 0.3405\n",
      "36m 32s (- 7m 50s) (24700 82%) 0.3062\n",
      "36m 40s (- 7m 41s) (24800 82%) 0.3301\n",
      "36m 48s (- 7m 32s) (24900 83%) 0.3906\n",
      "36m 57s (- 7m 23s) (25000 83%) 0.3179\n",
      "37m 4s (- 7m 14s) (25100 83%) 0.4158\n",
      "37m 12s (- 7m 5s) (25200 84%) 0.4155\n",
      "37m 20s (- 6m 56s) (25300 84%) 0.3368\n",
      "37m 27s (- 6m 47s) (25400 84%) 0.3863\n",
      "37m 36s (- 6m 38s) (25500 85%) 0.4524\n",
      "37m 44s (- 6m 29s) (25600 85%) 0.3925\n",
      "37m 53s (- 6m 20s) (25700 85%) 0.3542\n",
      "38m 0s (- 6m 11s) (25800 86%) 0.4079\n",
      "38m 8s (- 6m 2s) (25900 86%) 0.3243\n",
      "38m 15s (- 5m 53s) (26000 86%) 0.4532\n",
      "38m 23s (- 5m 44s) (26100 87%) 0.3950\n",
      "38m 30s (- 5m 35s) (26200 87%) 0.3261\n",
      "38m 37s (- 5m 26s) (26300 87%) 0.4695\n",
      "38m 45s (- 5m 17s) (26400 88%) 0.4508\n",
      "38m 55s (- 5m 8s) (26500 88%) 0.4292\n",
      "39m 3s (- 4m 59s) (26600 88%) 0.4627\n",
      "39m 10s (- 4m 50s) (26700 89%) 0.4552\n",
      "39m 18s (- 4m 41s) (26800 89%) 0.4566\n",
      "39m 29s (- 4m 33s) (26900 89%) 0.3753\n",
      "39m 37s (- 4m 24s) (27000 90%) 0.2557\n",
      "39m 46s (- 4m 15s) (27100 90%) 0.4822\n",
      "39m 54s (- 4m 6s) (27200 90%) 0.3760\n",
      "40m 2s (- 3m 57s) (27300 91%) 0.3832\n",
      "40m 10s (- 3m 48s) (27400 91%) 0.3591\n",
      "40m 18s (- 3m 39s) (27500 91%) 0.3302\n",
      "40m 25s (- 3m 30s) (27600 92%) 0.3975\n",
      "40m 33s (- 3m 22s) (27700 92%) 0.4174\n",
      "40m 40s (- 3m 13s) (27800 92%) 0.4623\n",
      "40m 48s (- 3m 4s) (27900 93%) 0.3377\n",
      "40m 57s (- 2m 55s) (28000 93%) 0.3825\n",
      "41m 5s (- 2m 46s) (28100 93%) 0.3919\n",
      "41m 12s (- 2m 37s) (28200 94%) 0.3475\n",
      "41m 19s (- 2m 28s) (28300 94%) 0.3521\n",
      "41m 26s (- 2m 20s) (28400 94%) 0.2991\n",
      "41m 34s (- 2m 11s) (28500 95%) 0.3818\n",
      "41m 41s (- 2m 2s) (28600 95%) 0.4127\n",
      "41m 50s (- 1m 53s) (28700 95%) 0.4021\n",
      "41m 58s (- 1m 44s) (28800 96%) 0.3836\n",
      "42m 7s (- 1m 36s) (28900 96%) 0.4532\n",
      "42m 16s (- 1m 27s) (29000 96%) 0.4345\n",
      "42m 23s (- 1m 18s) (29100 97%) 0.3599\n",
      "42m 30s (- 1m 9s) (29200 97%) 0.3804\n",
      "42m 38s (- 1m 1s) (29300 97%) 0.4226\n",
      "42m 45s (- 0m 52s) (29400 98%) 0.4613\n",
      "42m 54s (- 0m 43s) (29500 98%) 0.3717\n",
      "43m 2s (- 0m 34s) (29600 98%) 0.4900\n",
      "43m 9s (- 0m 26s) (29700 99%) 0.3623\n",
      "43m 17s (- 0m 17s) (29800 99%) 0.3847\n",
      "43m 26s (- 0m 8s) (29900 99%) 0.4052\n",
      "43m 34s (- 0m 0s) (30000 100%) 0.3539\n"
     ]
    },
    {
     "data": {
      "text/plain": [
       "<matplotlib.figure.Figure at 0x7f95b4777780>"
      ]
     },
     "metadata": {},
     "output_type": "display_data"
    },
    {
     "data": {
      "image/png": "[encoded data removed]",
      "text/plain": [
       "<matplotlib.figure.Figure at 0x7f95b476f1d0>"
      ]
     },
     "metadata": {},
     "output_type": "display_data"
    }
   ],
   "source": [
    "hidden_size = 500\n",
    "\n",
    "singlish_vocab\n",
    "encoder1 = EncoderRNN(len(singlish_vocab), hidden_size)\n",
    "attn_decoder1 = DecoderRNN(hidden_size, len(english_vocab))\n",
    "\n",
    "\n",
    "if use_cuda:\n",
    "    encoder1 = encoder1.cuda()\n",
    "    attn_decoder1 = attn_decoder1.cuda()\n",
    "\n",
    "train(encoder1, attn_decoder1, 30000, print_every=100)"
   ]
  },
  {
   "cell_type": "code",
   "execution_count": null,
   "metadata": {},
   "outputs": [],
   "source": []
  },
  {
   "cell_type": "code",
   "execution_count": null,
   "metadata": {},
   "outputs": [],
   "source": [
    "output_words, attentions = evaluate(encoder, decoder, pair[0])\n",
    "output_sentence = ' '.join(output_words)"
   ]
  },
  {
   "cell_type": "code",
   "execution_count": 156,
   "metadata": {},
   "outputs": [],
   "source": [
    "def evaluateRandomly(encoder, decoder, n=10):\n",
    "    for i in range(n):\n",
    "        pair = random.choice(sent_pairs)\n",
    "        print('>', [singlish_vocab[i] for i in pair[0][0]])\n",
    "        print('=', [english_gocab[i] for i in pair[1][0]])\n",
    "        output_words = evaluate(encoder, decoder, pair[0])\n",
    "        output_sentence = [english_vocab[i] for i in output_words[1:output_words.index(1)]]\n",
    "        print('<', output_sentence)\n",
    "        print('')\n"
   ]
  },
  {
   "cell_type": "code",
   "execution_count": 157,
   "metadata": {},
   "outputs": [],
   "source": [
    "def evaluate(encoder, decoder, input_variable, max_length=MAX_LENGTH):\n",
    "    input_length = input_variable.size()[0]\n",
    "    encoder_hidden = encoder.initialize_hidden_states()\n",
    "\n",
    "    encoder_outputs = Variable(torch.zeros(max_length, encoder.hidden_size))\n",
    "    encoder_outputs = encoder_outputs.cuda() if use_cuda else encoder_outputs\n",
    "\n",
    "    for ei in range(input_length):\n",
    "        encoder_output, encoder_hidden = encoder(input_variable[ei],\n",
    "                                                 encoder_hidden)\n",
    "        encoder_outputs[ei] = encoder_outputs[ei] + encoder_output[0][0]\n",
    "\n",
    "    decoder_input = Variable(torch.LongTensor([[START_IDX]]))  # SOS\n",
    "    decoder_input = decoder_input.cuda() if use_cuda else decoder_input\n",
    "\n",
    "    decoder_hidden = encoder_hidden\n",
    "\n",
    "    decoded_words = []\n",
    "    \n",
    "    for di in range(max_length):\n",
    "        decoder_output, decoder_hidden = decoder(\n",
    "            decoder_input, decoder_hidden)\n",
    "        topv, topi = decoder_output.data.topk(1)\n",
    "        ni = topi[0][0]\n",
    "        if ni == END:\n",
    "            decoded_words.append('</s>')\n",
    "            break\n",
    "        else:\n",
    "            decoded_words.append(ni)\n",
    "\n",
    "        decoder_input = Variable(torch.LongTensor([[ni]]))\n",
    "        decoder_input = decoder_input.cuda() if use_cuda else decoder_input\n",
    "\n",
    "    return decoded_words"
   ]
  },
  {
   "cell_type": "code",
   "execution_count": 179,
   "metadata": {},
   "outputs": [],
   "source": [
    "def translate(kopi_order):\n",
    "    output_words = evaluate(encoder1, attn_decoder1, variable_from_sent(kopi_order, singlish_vocab))\n",
    "    output_sentence = [english_vocab[i] for i in output_words[1:output_words.index(1)]]\n",
    "    return ' '.join(output_sentence)"
   ]
  },
  {
   "cell_type": "code",
   "execution_count": 225,
   "metadata": {},
   "outputs": [
    {
     "data": {
      "text/plain": [
       "'tea with condensed milk'"
      ]
     },
     "execution_count": 225,
     "metadata": {},
     "output_type": "execute_result"
    }
   ],
   "source": [
    "translate('teh')"
   ]
  },
  {
   "cell_type": "code",
   "execution_count": 226,
   "metadata": {},
   "outputs": [
    {
     "data": {
      "text/plain": [
       "'tea without milk but with sugar'"
      ]
     },
     "execution_count": 226,
     "metadata": {},
     "output_type": "execute_result"
    }
   ],
   "source": [
    "translate('teh o')"
   ]
  },
  {
   "cell_type": "code",
   "execution_count": 227,
   "metadata": {},
   "outputs": [
    {
     "data": {
      "text/plain": [
       "'tea with evaporated milk and sugar instead of condensed milk'"
      ]
     },
     "execution_count": 227,
     "metadata": {},
     "output_type": "execute_result"
    }
   ],
   "source": [
    "translate('teh c')"
   ]
  },
  {
   "cell_type": "code",
   "execution_count": 228,
   "metadata": {},
   "outputs": [
    {
     "data": {
      "text/plain": [
       "'hot tea more condensed'"
      ]
     },
     "execution_count": 228,
     "metadata": {},
     "output_type": "execute_result"
    }
   ],
   "source": [
    "translate('teh ga dai')"
   ]
  },
  {
   "cell_type": "code",
   "execution_count": 229,
   "metadata": {},
   "outputs": [
    {
     "data": {
      "text/plain": [
       "'hot tea with evaporated milk and more sugar'"
      ]
     },
     "execution_count": 229,
     "metadata": {},
     "output_type": "execute_result"
    }
   ],
   "source": [
    "translate('teh c ga dai')"
   ]
  },
  {
   "cell_type": "code",
   "execution_count": 230,
   "metadata": {},
   "outputs": [
    {
     "data": {
      "text/plain": [
       "'iced tea with evaporated milk and sugar'"
      ]
     },
     "execution_count": 230,
     "metadata": {},
     "output_type": "execute_result"
    }
   ],
   "source": [
    "translate('teh c ga dai peng')"
   ]
  },
  {
   "cell_type": "code",
   "execution_count": 231,
   "metadata": {},
   "outputs": [
    {
     "data": {
      "text/plain": [
       "'tea with less sugar'"
      ]
     },
     "execution_count": 231,
     "metadata": {},
     "output_type": "execute_result"
    }
   ],
   "source": [
    "translate('teh o siew dai')"
   ]
  },
  {
   "cell_type": "code",
   "execution_count": 232,
   "metadata": {},
   "outputs": [
    {
     "data": {
      "text/plain": [
       "'heaviest , purest version of tea with no water added at all to the initial brew'"
      ]
     },
     "execution_count": 232,
     "metadata": {},
     "output_type": "execute_result"
    }
   ],
   "source": [
    "translate('teh tiloh')"
   ]
  },
  {
   "cell_type": "code",
   "execution_count": 233,
   "metadata": {},
   "outputs": [
    {
     "data": {
      "text/plain": [
       "'iced version of tea'"
      ]
     },
     "execution_count": 233,
     "metadata": {},
     "output_type": "execute_result"
    }
   ],
   "source": [
    "translate('teh tiloh peng')"
   ]
  },
  {
   "cell_type": "code",
   "execution_count": 234,
   "metadata": {},
   "outputs": [
    {
     "data": {
      "text/plain": [
       "'iced milo'"
      ]
     },
     "execution_count": 234,
     "metadata": {},
     "output_type": "execute_result"
    }
   ],
   "source": [
    "translate('tak kiu peng')"
   ]
  },
  {
   "cell_type": "code",
   "execution_count": 235,
   "metadata": {},
   "outputs": [
    {
     "data": {
      "text/plain": [
       "'soya bean milk mixed with grass jelly'"
      ]
     },
     "execution_count": 235,
     "metadata": {},
     "output_type": "execute_result"
    }
   ],
   "source": [
    "translate('michael jackson')"
   ]
  },
  {
   "cell_type": "code",
   "execution_count": 236,
   "metadata": {},
   "outputs": [
    {
     "data": {
      "text/plain": [
       "'iced milo'"
      ]
     },
     "execution_count": 236,
     "metadata": {},
     "output_type": "execute_result"
    }
   ],
   "source": [
    "translate('michael jackson peng')"
   ]
  },
  {
   "cell_type": "code",
   "execution_count": 240,
   "metadata": {},
   "outputs": [
    {
     "data": {
      "text/plain": [
       "'iced tea with condensed'"
      ]
     },
     "execution_count": 240,
     "metadata": {},
     "output_type": "execute_result"
    }
   ],
   "source": [
    "translate('teh siew dai peng')"
   ]
  },
  {
   "cell_type": "code",
   "execution_count": 206,
   "metadata": {},
   "outputs": [],
   "source": [
    "import pickle"
   ]
  },
  {
   "cell_type": "code",
   "execution_count": 241,
   "metadata": {},
   "outputs": [],
   "source": [
    "with open('encoder_vanilla_500.pkl', 'wb') as fout:\n",
    "    pickle.dump(encoder1, fout)\n",
    "    \n",
    "with open('decoder_vanilla_500.pkl', 'wb') as fout:\n",
    "    pickle.dump(attn_decoder1, fout)"
   ]
  },
  {
   "cell_type": "code",
   "execution_count": null,
   "metadata": {},
   "outputs": [],
   "source": []
  },
  {
   "cell_type": "code",
   "execution_count": null,
   "metadata": {},
   "outputs": [],
   "source": []
  },
  {
   "cell_type": "markdown",
   "metadata": {},
   "source": []
  },
  {
   "cell_type": "code",
   "execution_count": null,
   "metadata": {},
   "outputs": [],
   "source": []
  }
 ],
 "metadata": {
  "kernelspec": {
   "display_name": "Python 3",
   "language": "python",
   "name": "python3"
  },
  "language_info": {
   "codemirror_mode": {
    "name": "ipython",
    "version": 3
   },
   "file_extension": ".py",
   "mimetype": "text/x-python",
   "name": "python",
   "nbconvert_exporter": "python",
   "pygments_lexer": "ipython3",
   "version": "3.5.2"
  }
 },
 "nbformat": 4,
 "nbformat_minor": 2
}
